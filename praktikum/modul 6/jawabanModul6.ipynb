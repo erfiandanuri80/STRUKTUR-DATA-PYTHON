{
 "cells": [
  {
   "cell_type": "markdown",
   "metadata": {
    "collapsed": false
   },
   "source": [
    "# MODUL 6\n"
   ]
  },
  {
   "cell_type": "markdown",
   "metadata": {
    "collapsed": false
   },
   "source": [
    "# no 1"
   ]
  },
  {
   "cell_type": "code",
   "execution_count": 1,
   "metadata": {
    "collapsed": false
   },
   "outputs": [
   ],
   "source": [
    "def sequentialSearch(listdata,item):\n",
    "    pos=0\n",
    "    found =False\n",
    "    temp=[]\n",
    "    while pos<len(listdata) and not found:\n",
    "        if listdata[pos] == item:\n",
    "            temp.append(pos)\n",
    "            pos += 1\n",
    "        else:\n",
    "            pos += 1\n",
    "    if temp==[]:\n",
    "        temp=\"item not found\"\n",
    "    return temp,pos\n"
   ]
  },
  {
   "cell_type": "code",
   "execution_count": 2,
   "metadata": {
    "cocalc": {
     "outputs": {
      "0": {
       "name": "input",
       "opts": {
        "password": false,
        "prompt": "masukkan data yang dicari : "
       },
       "output_type": "stream",
       "value": "5"
      }
     }
    },
    "collapsed": false
   },
   "outputs": [
    {
     "name": "stdout",
     "output_type": "stream",
     "text": "masukkan data yang dicari :  5"
    },
    {
     "name": "stdout",
     "output_type": "stream",
     "text": [
      "Posisi data :  [1, 5, 8]\n",
      "Jumlah iterasi :  10\n"
     ]
    }
   ],
   "source": [
    "listdata= [1,5,9,8,1,5,10,26,5,12]\n",
    "item=int(input(\"masukkan data yang dicari : \"))\n",
    "[hasil, jumlahIterasi] = sequentialSearch(listdata,item)\n",
    "print(\"Posisi data : \",hasil)\n",
    "print(\"Jumlah iterasi : \",jumlahIterasi)"
   ]
  },
  {
   "cell_type": "markdown",
   "metadata": {
    "collapsed": false
   },
   "source": [
    "# no 2\n"
   ]
  },
  {
   "cell_type": "code",
   "execution_count": 4,
   "metadata": {
    "collapsed": false
   },
   "outputs": [
   ],
   "source": [
    "def orderedSequentialSearch(listdata, item):\n",
    "    pos = 0\n",
    "    found=False\n",
    "    temp=[]\n",
    "    stop = False\n",
    "    while pos <= len(listdata) and not found and not stop:\n",
    "        if listdata[pos] == item:\n",
    "            temp.append(pos)\n",
    "            pos += 1\n",
    "        else:\n",
    "            if listdata[pos] > item:\n",
    "                pos += 1\n",
    "                stop = True\n",
    "            else:\n",
    "                pos = pos+1\n",
    "    if temp==[]:\n",
    "        temp=\"item not found\"\n",
    "    return temp,pos"
   ]
  },
  {
   "cell_type": "code",
   "execution_count": 5,
   "metadata": {
    "cocalc": {
     "outputs": {
      "1": {
       "name": "input",
       "opts": {
        "password": false,
        "prompt": "masukkan data yang dicari : "
       },
       "output_type": "stream",
       "value": "5"
      }
     }
    },
    "collapsed": false
   },
   "outputs": [
    {
     "name": "stdout",
     "output_type": "stream",
     "text": [
      "Data Awal= [1, 5, 9, 8, 1, 5, 10, 26, 5, 12]\n",
      "Data Urut= [1, 1, 5, 5, 5, 8, 9, 10, 12, 26]\n"
     ]
    },
    {
     "name": "stdout",
     "output_type": "stream",
     "text": "masukkan data yang dicari :  5"
    },
    {
     "name": "stdout",
     "output_type": "stream",
     "text": [
      "Posisi data :  [2, 3, 4]\n",
      "Jumlah iterasi :  6\n"
     ]
    }
   ],
   "source": [
    "aList= [1,5,9,8,1,5,10,26,5,12]\n",
    "listdata=selectionSort(aList)\n",
    "item=int(input(\"masukkan data yang dicari : \"))\n",
    "\n",
    "[hasil, jumlahIterasi] = orderedSequentialSearch(listdata,item)\n",
    "print(\"Posisi data : \",hasil)\n",
    "print(\"Jumlah iterasi : \",jumlahIterasi)"
   ]
  },
  {
   "cell_type": "markdown",
   "metadata": {
    "collapsed": false
   },
   "source": [
    "# no 3"
   ]
  },
  {
   "cell_type": "code",
   "execution_count": 3,
   "metadata": {
    "collapsed": false
   },
   "outputs": [
   ],
   "source": [
    "def binarySearch(listData, data):\n",
    "    first = 0\n",
    "    last = len(listData) - 1\n",
    "    pos=0\n",
    "    found = False\n",
    "    temp=[]\n",
    "        \n",
    "    while first <= last and not found :\n",
    "        midpoint = (first + last) // 2\n",
    "        if listdata[midpoint]==data :\n",
    "            pos+=1\n",
    "            temp.append(midpoint)\n",
    "            if listdata[midpoint+1] == data:\n",
    "                first = midpoint + 1\n",
    "            elif listdata[midpoint-1] == data :\n",
    "                last = midpoint - 1\n",
    "            else:\n",
    "                found=True\n",
    "        else:\n",
    "            if listdata[midpoint] <= data:\n",
    "                pos+=1\n",
    "                first = midpoint + 1\n",
    "            else:\n",
    "                pos+=1\n",
    "                last = midpoint - 1\n",
    "    if temp==[]:\n",
    "        temp='item not found'\n",
    "    return temp,pos"
   ]
  },
  {
   "cell_type": "code",
   "execution_count": 8,
   "metadata": {
    "cocalc": {
     "outputs": {
      "1": {
       "name": "input",
       "opts": {
        "password": false,
        "prompt": "masukkan data yang dicari : "
       },
       "output_type": "stream",
       "value": "1"
      }
     }
    },
    "collapsed": false
   },
   "outputs": [
    {
     "name": "stdout",
     "output_type": "stream",
     "text": [
      "Data Awal= [1, 5, 9, 8, 1, 5, 10, 26, 5, 12]\n",
      "Data Urut= [1, 1, 5, 5, 5, 8, 9, 10, 12, 26]\n"
     ]
    },
    {
     "name": "stdout",
     "output_type": "stream",
     "text": "masukkan data yang dicari :  1"
    },
    {
     "name": "stdout",
     "output_type": "stream",
     "text": [
      "Posisi data :  [1, 0]\n",
      "Jumlah iterasi :  3\n"
     ]
    }
   ],
   "source": [
    "aList= [1,5,9,8,1,5,10,26,5,12]\n",
    "listdata=selectionSort(aList)\n",
    "item=int(input(\"masukkan data yang dicari : \"))\n",
    "\n",
    "[hasil, jumlahIterasi] = binarySearch(listdata,item)\n",
    "print(\"Posisi data : \",hasil)\n",
    "print(\"Jumlah iterasi : \",jumlahIterasi)"
   ]
  },
  {
   "cell_type": "code",
   "execution_count": 0,
   "metadata": {
    "collapsed": false
   },
   "outputs": [
   ],
   "source": [
   ]
  },
  {
   "cell_type": "code",
   "execution_count": 0,
   "metadata": {
    "collapsed": false
   },
   "outputs": [
   ],
   "source": [
   ]
  },
  {
   "cell_type": "code",
   "execution_count": 5,
   "metadata": {
    "collapsed": false
   },
   "outputs": [
   ],
   "source": [
    "def selectionSort(listData):\n",
    "    print('Data Awal=',listData)\n",
    "    for outIter in range(len(listData)-1):       \n",
    "        minIndex=outIter\n",
    "        for i in range(outIter+1,len(listData)):\n",
    "            if listData[i]<listData[minIndex]:\n",
    "                minIndex=i\n",
    "        \n",
    "        temp=listData[outIter]\n",
    "        listData[outIter]=listData[minIndex]\n",
    "        listData[minIndex]=temp\n",
    "    print('Data Urut=',listData)\n",
    "    return listData"
   ]
  },
  {
   "cell_type": "code",
   "execution_count": 0,
   "metadata": {
    "collapsed": false
   },
   "outputs": [
   ],
   "source": [
   ]
  }
 ],
 "metadata": {
  "kernelspec": {
   "display_name": "Python 3 (system-wide)",
   "language": "python",
   "metadata": {
    "cocalc": {
     "description": "Python 3 programming language",
     "priority": 100,
     "url": "https://www.python.org/"
    }
   },
   "name": "python3"
  },
  "language_info": {
   "codemirror_mode": {
    "name": "ipython",
    "version": 3
   },
   "file_extension": ".py",
   "mimetype": "text/x-python",
   "name": "python",
   "nbconvert_exporter": "python",
   "pygments_lexer": "ipython3",
   "version": "3.6.8"
  }
 },
 "nbformat": 4,
 "nbformat_minor": 0
}