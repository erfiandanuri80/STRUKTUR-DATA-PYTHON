{
 "cells": [
  {
   "cell_type": "code",
   "execution_count": 1,
   "metadata": {
    "collapsed": false
   },
   "outputs": [
    {
     "name": "stdout",
     "output_type": "stream",
     "text": [
      "head5->84->12->77]\n",
      "head5->84->12->77]\n",
      "head5->84->12->99->77]\n"
     ]
    }
   ],
   "source": [
    "class Node:\n",
    "    def __init__(self,init_data):\n",
    "        self.data = init_data\n",
    "        self.next = None\n",
    "    def getData(self):\n",
    "        return self.data\n",
    "    def getNext(self):\n",
    "        return self.next\n",
    "    def setData(self,newdata):\n",
    "        self.data = newdata\n",
    "    def setNext(self,new_next):\n",
    "        self.next = new_next\n",
    "class LinkedList:\n",
    "    def __init__(self):\n",
    "        self.head=None\n",
    "    def isEmpty(self):\n",
    "        return self.head==None\n",
    "    def add(self,item):\n",
    "        temp= Node(item)\n",
    "    def size(self):\n",
    "        current = self.head\n",
    "        count = 0\n",
    "        while current != None:\n",
    "            count+=1\n",
    "            current=current.getNext() \n",
    "        return count\n",
    "    def addRear(self,item):\n",
    "        temp=Node(item)\n",
    "        if self.isEmpty()==True:\n",
    "            self.head=temp\n",
    "        else:\n",
    "            current=self.head\n",
    "            previous=None\n",
    "            while current != None:\n",
    "                previous=current\n",
    "                current=current.getNext()\n",
    "            previous.setNext(temp)\n",
    "    def __str__(self):\n",
    "        data=\"head\"\n",
    "        current=self.head\n",
    "        while current!=None:\n",
    "            data+=str(current.data)\n",
    "            current=current.getNext()\n",
    "            if current!=None:\n",
    "                data+=\"->\"\n",
    "        data+=\"]\"\n",
    "        return(data)\n",
    "    def insertitem (item) :\n",
    "        temp = Node(item)\n",
    "        return temp\n",
    "    def insertNext(self,obj,item):\n",
    "        current=self.head\n",
    "        previous=current\n",
    "        insert=False\n",
    "        while current !=None and not insert:\n",
    "            if previous.getData()== obj:\n",
    "                insert= True\n",
    "            elif current.getData()==None:\n",
    "                temp=LinkedList.insertitem(item)\n",
    "                previous.setNext(temp)\n",
    "            else:\n",
    "                previous= current\n",
    "                current=current.getNext()\n",
    "        if insert == True:\n",
    "            temp=LinkedList.insertitem(item)\n",
    "            temp.setNext(current)\n",
    "            previous.setNext(temp)\n",
    "            \n",
    "    def insertPrevious(self,obj,item):\n",
    "        current=self.head\n",
    "        previous=None\n",
    "        insert=False\n",
    "        while current !=None and not insert:\n",
    "            if current.getData()== obj:\n",
    "                insert= True\n",
    "            else:\n",
    "                previous= current\n",
    "                current=current.getNext()\n",
    "        if insert == True:\n",
    "            temp=LinkedList.insertitem(item)\n",
    "            temp.setNext(current)\n",
    "            previous.setNext(temp)\n",
    "            \n",
    "            \n",
    "mylist1=LinkedList()\n",
    "mylist1.addRear(5)\n",
    "mylist1.addRear(84)\n",
    "mylist1.addRear(12)\n",
    "mylist1.addRear(77)\n",
    "print(mylist1)\n",
    "mylist1.insertNext(77,100)\n",
    "print(mylist1)\n",
    "mylist1.insertPrevious(77,99)\n",
    "print(mylist1)\n",
    "\n",
    "\n",
    "\n"
   ]
  },
  {
   "cell_type": "code",
   "execution_count": 2,
   "metadata": {
    "collapsed": false
   },
   "outputs": [
   ],
   "source": [
    "#code by: Rio Erfian\n",
    "\n",
    "import time\n",
    "class Sorting:\n",
    "    def __init__(self,a):\n",
    "        self.data=a\n",
    "    def bubbleSort(self,pilihan):\n",
    "        awal=time.time()\n",
    "        if pilihan==\"a\":\n",
    "            for passnum in range(len(self.data)-1,0,-1):\n",
    "                for i in range(len(self.data)-1): \n",
    "                    if a[i]>a[i+1]:\n",
    "                        temp = a[i]\n",
    "                        a[i] = a[i+1]\n",
    "                        a[i+1] = temp\n",
    "        elif pilihan==\"d\":\n",
    "            for passnum in range(len(self.data)-1,0,-1):\n",
    "                for i in range(len(self.data)-1):\n",
    "                    if a[i]<a[i+1]:\n",
    "                        temp = a[i]\n",
    "                        a[i] = a[i+1]\n",
    "                        a[i+1] = temp\n",
    "        akhir=time.time()\n",
    "        t1=akhir-awal\n",
    "        return t1\n",
    "    def insertionSort(self,pilihan):\n",
    "        awal=time.time()\n",
    "        alist=self.data\n",
    "        if pilihan==\"a\":\n",
    "            for index in range(1,len(alist)):\n",
    "                currentvalue = alist[index]\n",
    "                position = index\n",
    "                while position>0 and alist[position-1]>currentvalue:\n",
    "                    alist[position]=alist[position-1]\n",
    "                    position = position-1\n",
    "                alist[position]=currentvalue\n",
    "        elif pilihan==\"d\":\n",
    "            for index in range(1,len(alist)):\n",
    "                currentvalue = alist[index]\n",
    "                position = index\n",
    "                while position>0 and alist[position-1]<currentvalue:\n",
    "                    alist[position]=alist[position-1]\n",
    "                    position = position-1\n",
    "                alist[position]=currentvalue\n",
    "        akhir=time.time()\n",
    "        t1=akhir-awal\n",
    "        return t1\n",
    "\n",
    "    def selectionSort(self,pilihan):\n",
    "        awal=time.time()\n",
    "        data=self.data\n",
    "        if pilihan==\"a\":\n",
    "            for i in range(len(data)-1):\n",
    "                index=i\n",
    "                for j in range(i+1,len(data)):\n",
    "                    if data[j]<data[index]:\n",
    "                        index=j\n",
    "                temp=data[i]\n",
    "                data[i],data[index]=data[index],data[i]\n",
    "        elif pilihan==\"d\":\n",
    "            for i in range(len(data)-1):\n",
    "                index=i\n",
    "                for j in range(i+1,len(data)):\n",
    "                    if data[j]>data[index]:\n",
    "                        index=j\n",
    "                temp=data[i]\n",
    "                data[i],data[index]=data[index],data[i]\n",
    "        akhir=time.time()\n",
    "        t1=akhir-awal\n",
    "        return t1"
   ]
  },
  {
   "cell_type": "code",
   "execution_count": 3,
   "metadata": {
    "collapsed": false,
    "scrolled": true
   },
   "outputs": [
    {
     "name": "stdout",
     "output_type": "stream",
     "text": [
      "[983, 970, 943, 923, 880, 876, 864, 856, 847, 825, 820, 811, 810, 802, 797, 785, 751, 729, 728, 685, 666, 655, 651, 631, 593, 578, 549, 534, 523, 508, 493, 462, 450, 393, 362, 338, 316, 310, 284, 269, 261, 257, 244, 235, 214, 136, 74, 39, 8, 6]\n",
      "waktu proses 8.916854858398438e-05 detik\n"
     ]
    }
   ],
   "source": [
    "import random\n",
    "a=random.sample(range(0,1000),50)\n",
    "datasort=Sorting(a)\n",
    "t1=datasort.insertionSort(\"d\")\n",
    "print(datasort.data)\n",
    "print(\"waktu proses\",t1,\"detik\")"
   ]
  },
  {
   "cell_type": "code",
   "execution_count": 0,
   "metadata": {
    "collapsed": false
   },
   "outputs": [
   ],
   "source": [
   ]
  },
  {
   "cell_type": "code",
   "execution_count": 0,
   "metadata": {
    "collapsed": false
   },
   "outputs": [
   ],
   "source": [
   ]
  }
 ],
 "metadata": {
  "kernelspec": {
   "display_name": "Python 3 (Anaconda 5)",
   "env": {
    "LD_LIBRARY_PATH": "/ext/anaconda5/lib",
    "PYTHONHOME": "/ext/anaconda5/lib/python3.5",
    "PYTHONPATH": "/ext/anaconda5/lib/python3.5:/ext/anaconda5/lib/python3.5/site-packages"
   },
   "language": "python",
   "metadata": {
    "cocalc": {
     "description": "Python/R distribution for data science",
     "priority": 5,
     "url": "https://www.anaconda.com/distribution/"
    }
   },
   "name": "anaconda5"
  },
  "language_info": {
   "codemirror_mode": {
    "name": "ipython",
    "version": 3
   },
   "file_extension": ".py",
   "mimetype": "text/x-python",
   "name": "python",
   "nbconvert_exporter": "python",
   "pygments_lexer": "ipython3",
   "version": "3.6.7"
  }
 },
 "nbformat": 4,
 "nbformat_minor": 0
}