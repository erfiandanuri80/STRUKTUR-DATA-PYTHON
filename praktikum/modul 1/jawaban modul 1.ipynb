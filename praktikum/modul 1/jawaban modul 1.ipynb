{
 "cells": [
  {
   "cell_type": "code",
   "execution_count": 3,
   "metadata": {
    "cocalc": {
     "outputs": {
      "1": {
       "name": "input",
       "opts": {
        "password": false,
        "prompt": "jumlah baris: "
       },
       "output_type": "stream",
       "value": "2"
      },
      "10": {
       "name": "input",
       "opts": {
        "password": false,
        "prompt": "jumla elemen: "
       },
       "output_type": "stream",
       "value": "1"
      },
      "11": {
       "name": "input",
       "opts": {
        "password": false,
        "prompt": "baris ke: ?"
       },
       "output_type": "stream",
       "value": "0"
      },
      "12": {
       "name": "input",
       "opts": {
        "password": false,
        "prompt": "kolom ke: ?"
       },
       "output_type": "stream",
       "value": "0"
      },
      "13": {
       "name": "input",
       "opts": {
        "password": false,
        "prompt": "data[0,0]="
       },
       "output_type": "stream",
       "value": "1"
      },
      "2": {
       "name": "input",
       "opts": {
        "password": false,
        "prompt": "jumlah kolom: "
       },
       "output_type": "stream",
       "value": "2"
      },
      "3": {
       "name": "input",
       "opts": {
        "password": false,
        "prompt": "jumla elemen: "
       },
       "output_type": "stream",
       "value": "1"
      },
      "4": {
       "name": "input",
       "opts": {
        "password": false,
        "prompt": "baris ke: ?"
       },
       "output_type": "stream",
       "value": "0"
      },
      "5": {
       "name": "input",
       "opts": {
        "password": false,
        "prompt": "kolom ke: ?"
       },
       "output_type": "stream",
       "value": "0"
      },
      "6": {
       "name": "input",
       "opts": {
        "password": false,
        "prompt": "data[0,0]="
       },
       "output_type": "stream",
       "value": "1"
      },
      "8": {
       "name": "input",
       "opts": {
        "password": false,
        "prompt": "jumlah baris: "
       },
       "output_type": "stream",
       "value": "2"
      },
      "9": {
       "name": "input",
       "opts": {
        "password": false,
        "prompt": "jumlah kolom: "
       },
       "output_type": "stream",
       "value": "1"
      }
     }
    },
    "collapsed": false
   },
   "outputs": [
    {
     "name": "stdout",
     "output_type": "stream",
     "text": [
      "matriks1= \n",
      "------------------------\n"
     ]
    },
    {
     "name": "stdout",
     "output_type": "stream",
     "text": "jumlah baris:  2"
    },
    {
     "name": "stdout",
     "output_type": "stream",
     "text": "jumlah kolom:  2"
    },
    {
     "name": "stdout",
     "output_type": "stream",
     "text": "jumla elemen:  1"
    },
    {
     "name": "stdout",
     "output_type": "stream",
     "text": "baris ke: ? 0"
    },
    {
     "name": "stdout",
     "output_type": "stream",
     "text": "kolom ke: ? 0"
    },
    {
     "name": "stdout",
     "output_type": "stream",
     "text": "data[0,0]= 1"
    },
    {
     "name": "stdout",
     "output_type": "stream",
     "text": [
      "matriks2= \n",
      "---------------------- \n"
     ]
    },
    {
     "name": "stdout",
     "output_type": "stream",
     "text": "jumlah baris:  2"
    },
    {
     "name": "stdout",
     "output_type": "stream",
     "text": "jumlah kolom:  1"
    },
    {
     "name": "stdout",
     "output_type": "stream",
     "text": "jumla elemen:  1"
    },
    {
     "name": "stdout",
     "output_type": "stream",
     "text": "baris ke: ? 0"
    },
    {
     "name": "stdout",
     "output_type": "stream",
     "text": "kolom ke: ? 0"
    },
    {
     "name": "stdout",
     "output_type": "stream",
     "text": "data[0,0]= 1"
    },
    {
     "name": "stdout",
     "output_type": "stream",
     "text": [
      "matriks1= \n",
      "------------------------\n",
      "|   1   0 |\n",
      "|   0   0 |\n",
      "matriks1= \n",
      "------------------------\n",
      "|   1 |\n",
      "|   0 |\n",
      "multimatrix= \n",
      "------------------------ x\n",
      "|   1 |\n",
      "|   0 |\n"
     ]
    }
   ],
   "source": [
    "from sparseMatrix import *\n",
    "\n",
    "# INI NO 2 \n",
    "#\"--------main program---------\"\n",
    "#create matriks\n",
    "print(\"matriks1= \")\n",
    "print(\"------------------------\")\n",
    "(mat1,bar1,kol1)=createspmatrix()\n",
    "\n",
    "print(\"matriks2= \")\n",
    "print(\"---------------------- \")\n",
    "(mat2,bar2,kol2)=createspmatrix()\n",
    "\n",
    "\n",
    "#multi Matriks\n",
    "\n",
    "if (bar1==kol2) or (kol1==bar2):\n",
    "    matrixmult=multspmatrix(mat1,mat2,bar1,kol1)\n",
    "    print(\"matriks1= \")\n",
    "    print(\"------------------------\")\n",
    "    displayData(mat1,bar1,kol1)\n",
    "    print(\"matriks1= \")\n",
    "    print(\"------------------------\")\n",
    "    displayData(mat2,bar2,kol2)\n",
    "    print(\"multimatrix= \")\n",
    "    print(\"------------------------ x\")\n",
    "    displayData(matrixmult,bar1,kol2)\n",
    "else:\n",
    "    print(\"ERROR\",\"ukuran matriks tidak sama\")"
   ]
  },
  {
   "cell_type": "code",
   "execution_count": 2,
   "metadata": {
    "collapsed": false
   },
   "outputs": [
    {
     "name": "stdout",
     "output_type": "stream",
     "text": [
      "          *\n",
      "         ***\n",
      "        *****\n",
      "       *******\n",
      "      *********\n",
      "     ***********\n",
      "    *************\n",
      "   ***************\n",
      "  *****************\n",
      "             $\n",
      "            $$$\n",
      "           $$$$$\n",
      "          $$$$$$$\n",
      "         $$$$$$$$$\n",
      "        $$$$$$$$$$$\n",
      "       $$$$$$$$$$$$$\n",
      "      $$$$$$$$$$$$$$$\n",
      "     $$$$$$$$$$$$$$$$$\n",
      "    $$$$$$$$$$$$$$$$$$$\n",
      "   $$$$$$$$$$$$$$$$$$$$$\n",
      "  $$$$$$$$$$$$$$$$$$$$$$$\n"
     ]
    }
   ],
   "source": [
    "# INI NO 1 \n",
    "\n",
    "def printTriangle(icon,tinggi):\n",
    "    jicon = 1\n",
    "    temp = tinggi\n",
    "    for i in range(temp):\n",
    "        print(\" \" * tinggi, icon*jicon)\n",
    "        tinggi = tinggi - 1\n",
    "        jicon = jicon + 2\n",
    "\n",
    "printTriangle(\"*\",9)\n",
    "printTriangle(\"$\",12)\n"
   ]
  },
  {
   "cell_type": "code",
   "execution_count": 0,
   "metadata": {
    "collapsed": false
   },
   "outputs": [
   ],
   "source": [
   ]
  },
  {
   "cell_type": "code",
   "execution_count": 0,
   "metadata": {
    "collapsed": false
   },
   "outputs": [
   ],
   "source": [
   ]
  },
  {
   "cell_type": "code",
   "execution_count": 0,
   "metadata": {
    "collapsed": false
   },
   "outputs": [
   ],
   "source": [
   ]
  }
 ],
 "metadata": {
  "kernelspec": {
   "display_name": "Python 3 (Anaconda 5)",
   "env": {
    "LD_LIBRARY_PATH": "/ext/anaconda5/lib",
    "PROJ_LIB": "/ext/anaconda-2019.03/share/proj",
    "PYTHONHOME": "/ext/anaconda5/lib/python3.5",
    "PYTHONPATH": "/ext/anaconda5/lib/python3.5:/ext/anaconda5/lib/python3.5/site-packages"
   },
   "language": "python",
   "metadata": {
    "cocalc": {
     "description": "Python/R distribution for data science",
     "priority": -1,
     "url": "https://www.anaconda.com/distribution/"
    }
   },
   "name": "anaconda5"
  },
  "language_info": {
   "codemirror_mode": {
    "name": "ipython",
    "version": 3
   },
   "file_extension": ".py",
   "mimetype": "text/x-python",
   "name": "python",
   "nbconvert_exporter": "python",
   "pygments_lexer": "ipython3",
   "version": "3.6.7"
  }
 },
 "nbformat": 4,
 "nbformat_minor": 0
}