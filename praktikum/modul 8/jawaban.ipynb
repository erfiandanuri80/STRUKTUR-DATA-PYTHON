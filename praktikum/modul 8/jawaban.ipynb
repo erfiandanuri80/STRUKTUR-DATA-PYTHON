{
 "cells": [
  {
   "cell_type": "code",
   "execution_count": 4,
   "metadata": {
    "collapsed": false
   },
   "outputs": [
   ],
   "source": [
    "def stack():\n",
    "    s=[]\n",
    "    return (s)\n",
    "def push(s,data):\n",
    "    s.append(data)\n",
    "def pop(s):\n",
    "    data=s.pop()\n",
    "    return(data)\n",
    "def peek(s):\n",
    "    return(s[len(s)-1])\n",
    "def isEmpty(s):\n",
    "    return (s==[])\n",
    "def size(s):\n",
    "    return(len(s))\n",
    "\n",
    "class BinaryTree:\n",
    "    def __init__(self, root):\n",
    "        self.key = root\n",
    "        self.leftChild = None\n",
    "        self.rightChild = None\n",
    "    def insertLeft(self, new_node):\n",
    "        if self.leftChild == None:           \n",
    "            self.leftChild = BinaryTree(new_node)         \n",
    "        else:\n",
    "            t = BinaryTree(new_node)\n",
    "            t.leftChild = self.leftChild\n",
    "            self.leftChild = t\n",
    "           \n",
    "    def insertRight(self, new_node):\n",
    "        if self.rightChild == None:\n",
    "            self.rightChild = BinaryTree(new_node)            \n",
    "        else:\n",
    "            t = BinaryTree(new_node)\n",
    "            t.rightChild = self.rightChild\n",
    "            self.rightChild = t\n",
    "\n",
    "    def getRightChild(self):\n",
    "        return self.rightChild\n",
    "    def getLeftChild(self):\n",
    "        return self.leftChild\n",
    "    def setRootVal(self, obj):\n",
    "        self.key = obj\n",
    "    def getRootVal(self):\n",
    "        return self.key"
   ]
  },
  {
   "cell_type": "code",
   "execution_count": 5,
   "metadata": {
    "collapsed": false
   },
   "outputs": [
   ],
   "source": [
    "import operator\n",
    "def evaluate(parse_tree):\n",
    "    opers = { '+' :operator.add, '-' :operator.sub, '*' :operator.mul,'/' :operator.truediv}\n",
    "    left = parse_tree.getLeftChild()\n",
    "    right = parse_tree.getRightChild()\n",
    "    if left and right:\n",
    "        fn = opers[parse_tree.key]\n",
    "        return fn(evaluate(left),evaluate(right))\n",
    "    else:\n",
    "        return parse_tree.key"
   ]
  },
  {
   "cell_type": "code",
   "execution_count": 10,
   "metadata": {
    "collapsed": false
   },
   "outputs": [
    {
     "data": {
      "text/plain": [
       "'2 8 9 + *'"
      ]
     },
     "execution_count": 10,
     "metadata": {
     },
     "output_type": "execute_result"
    }
   ],
   "source": [
    "formula=\"2 8 9 + *\"\n",
    "#a=posttoinfix(formula)\n",
    "#print(a)\n",
    "resTree = BinaryTree(formula)\n",
    "evaluate(resTree)"
   ]
  },
  {
   "cell_type": "code",
   "execution_count": 2,
   "metadata": {
    "collapsed": false
   },
   "outputs": [
   ],
   "source": [
    "def bracket(string):\n",
    "    return \"(\"+string+\")\"\n",
    "def posttoinfix(formula):\n",
    "    num=stack()\n",
    "    ops=90\n",
    "    result=\"\"\n",
    "    for i in formula.split():\n",
    "        if i not in ops:\n",
    "            num.append(i)\n",
    "        else:\n",
    "            right= num.pop()\n",
    "            left= num.pop()\n",
    "            newresult=\" \".join([left,i,right])\n",
    "            newresult=bracket(newresult)\n",
    "            num.append(newresult)\n",
    "    return num[0]\n",
    "            "
   ]
  },
  {
   "cell_type": "code",
   "execution_count": 0,
   "metadata": {
    "collapsed": false
   },
   "outputs": [
   ],
   "source": [
   ]
  }
 ],
 "metadata": {
  "kernelspec": {
   "display_name": "Python 3 (Anaconda 5)",
   "env": {
    "LD_LIBRARY_PATH": "/ext/anaconda5/lib",
    "PROJ_LIB": "/ext/anaconda-2019.03/share/proj",
    "PYTHONHOME": "/ext/anaconda5/lib/python3.5",
    "PYTHONPATH": "/ext/anaconda5/lib/python3.5:/ext/anaconda5/lib/python3.5/site-packages"
   },
   "language": "python",
   "metadata": {
    "cocalc": {
     "description": "Python/R distribution for data science",
     "priority": -1,
     "url": "https://www.anaconda.com/distribution/"
    }
   },
   "name": "anaconda5"
  },
  "language_info": {
   "codemirror_mode": {
    "name": "ipython",
    "version": 3
   },
   "file_extension": ".py",
   "mimetype": "text/x-python",
   "name": "python",
   "nbconvert_exporter": "python",
   "pygments_lexer": "ipython3",
   "version": "3.6.7"
  }
 },
 "nbformat": 4,
 "nbformat_minor": 0
}