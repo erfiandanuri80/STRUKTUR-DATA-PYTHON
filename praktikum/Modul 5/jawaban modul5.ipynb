{
 "cells": [
  {
   "cell_type": "code",
   "execution_count": 0,
   "metadata": {
    "collapsed": false
   },
   "outputs": [
   ],
   "source": [
    "import turtle\n",
    "myTurtle = turtle.Turtle()\n",
    "myWin = turtle.Screen()\n",
    "\n",
    "def drawSquare(myTurtle, lineLen,a,level,b):\n",
    "    if b<level+1:\n",
    "        if a<4:\n",
    "            if lineLen > 0:\n",
    "                myTurtle.forward(lineLen)\n",
    "                myTurtle.right(90)\n",
    "                myTurtle.forward(lineLen/2)\n",
    "                myTurtle.right(90)\n",
    "                myTurtle.forward(lineLen)\n",
    "                myTurtle.right(90)\n",
    "                myTurtle.forward(lineLen/2)\n",
    "                myTurtle.right(90)\n",
    "                myTurtle.forward(lineLen)\n",
    "                myTurtle.right(90)\n",
    "                drawSquare(myTurtle, lineLen,a+1,level,b)\n",
    "        else:\n",
    "            drawSquare(myTurtle, lineLen/2,0,level,b+1)"
   ]
  },
  {
   "cell_type": "code",
   "execution_count": 0,
   "metadata": {
    "collapsed": false
   },
   "outputs": [
   ],
   "source": [
    "#-----------------#\n",
    "#    LEVEL 0      #\n",
    "#-----------------#\n",
    "drawSquare(myTurtle, 100,0,0,0)\n",
    "myWin.exitonclick()"
   ]
  },
  {
   "cell_type": "code",
   "execution_count": 0,
   "metadata": {
    "collapsed": false
   },
   "outputs": [
   ],
   "source": [
    "#-----------------#\n",
    "#    LEVEL 1      #\n",
    "#-----------------#\n",
    "drawSquare(myTurtle, 100,0,1,0)\n",
    "myWin.exitonclick()"
   ]
  },
  {
   "cell_type": "code",
   "execution_count": 0,
   "metadata": {
    "collapsed": false
   },
   "outputs": [
   ],
   "source": [
    "#-----------------#\n",
    "#    LEVEL 2      #\n",
    "#-----------------#\n",
    "drawSquare(myTurtle, 100,0,2,0)\n",
    "myWin.exitonclick()"
   ]
  },
  {
   "cell_type": "code",
   "execution_count": 0,
   "metadata": {
    "collapsed": false
   },
   "outputs": [
   ],
   "source": [
    "#-----------------#\n",
    "#    LEVEL 5      #\n",
    "#-----------------#\n",
    "drawSquare(myTurtle, 100,0,5,0)\n",
    "myWin.exitonclick()"
   ]
  },
  {
   "cell_type": "code",
   "execution_count": 0,
   "metadata": {
    "collapsed": false
   },
   "outputs": [
   ],
   "source": [
   ]
  }
 ],
 "metadata": {
  "kernelspec": {
   "display_name": "Python 3 (Anaconda 5)",
   "env": {
    "LD_LIBRARY_PATH": "/ext/anaconda5/lib",
    "PYTHONHOME": "/ext/anaconda5/lib/python3.5",
    "PYTHONPATH": "/ext/anaconda5/lib/python3.5:/ext/anaconda5/lib/python3.5/site-packages"
   },
   "language": "python",
   "metadata": {
    "cocalc": {
     "description": "Python/R distribution for data science",
     "priority": 5,
     "url": "https://www.anaconda.com/distribution/"
    }
   },
   "name": "anaconda5"
  },
  "language_info": {
   "codemirror_mode": {
    "name": "ipython",
    "version": 3
   },
   "file_extension": ".py",
   "mimetype": "text/x-python",
   "name": "python",
   "nbconvert_exporter": "python",
   "pygments_lexer": "ipython3",
   "version": "3.6.7"
  }
 },
 "nbformat": 4,
 "nbformat_minor": 0
}