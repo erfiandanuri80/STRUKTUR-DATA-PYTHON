{
 "cells": [
  {
   "cell_type": "code",
   "execution_count": 1,
   "metadata": {
    "collapsed": false
   },
   "outputs": [
   ],
   "source": [
    "class Node:\n",
    "    def __init__(self,init_data):\n",
    "        self.data = init_data\n",
    "        self.next = None\n",
    "    def getData(self):\n",
    "        return self.data\n",
    "    def getNext(self):\n",
    "        return self.next\n",
    "    def setData(self,newdata):\n",
    "        self.data = newdata\n",
    "    def setNext(self,new_next):\n",
    "        self.next = new_next\n",
    "class LinkedList:\n",
    "    def __init__(self):\n",
    "        self.head=None\n",
    "    def isEmpty(self):\n",
    "        return self.head==None\n",
    "    def add(self,item):\n",
    "        temp= Node(item)\n",
    "        temp.setNext(self.head)\n",
    "        self.head =temp\n",
    "    def size(self):\n",
    "        current = self.head\n",
    "        count = 0\n",
    "        while current != None:\n",
    "            count+=1\n",
    "            current=current.getNext() \n",
    "        return count\n",
    "    def addRear(self,item):\n",
    "        temp=Node(item)\n",
    "        if self.isEmpty()==True:\n",
    "            self.head=temp\n",
    "        else:\n",
    "            current=self.head\n",
    "            previous=None\n",
    "            while current != None:\n",
    "                previous=current\n",
    "                current=current.getNext()\n",
    "            previous.setNext(temp)\n",
    "    def __str__(self):\n",
    "        data=\"[\"\n",
    "        current=self.head\n",
    "        while current!=None:\n",
    "            data+=str(current.data)\n",
    "            current=current.getNext()\n",
    "            if current!=None:\n",
    "                data+=\",\"\n",
    "        data+=\"]\"\n",
    "        return(data)\n",
    "    def __add__(self,obj):\n",
    "        temp=LinkedList()\n",
    "        data1=self.head\n",
    "        data2=obj.head\n",
    "        size1=self.size()\n",
    "        size2=obj.size()\n",
    "        if size1>size2:\n",
    "            while data1!=None:\n",
    "                while data2!=None:\n",
    "                    temp.addRear(data1.data+data2.data)\n",
    "                    data1=data1.getNext()\n",
    "                    data2=data2.getNext()\n",
    "                else:\n",
    "                    temp.addRear(data1.getData())\n",
    "                    data1=data1.getNext()\n",
    "        else:\n",
    "            while data2!=None:\n",
    "                while data1!=None:\n",
    "                    temp.addRear(data1.getData()+data2.getData())\n",
    "                    data1=data1.getNext()\n",
    "                    data2=data2.getNext()\n",
    "                else:\n",
    "                    temp.addRear(data2.getData())\n",
    "                    data2=data2.getNext()\n",
    "        return temp"
   ]
  },
  {
   "cell_type": "code",
   "execution_count": 2,
   "metadata": {
    "collapsed": false
   },
   "outputs": [
    {
     "name": "stdout",
     "output_type": "stream",
     "text": [
      "[5,84,12,77]\n",
      "[8,9]\n",
      "mylist1 [5,84,12,77]\n",
      "mylist2 [8,9]\n",
      "hasil penjumlahan= [13,93,12,77]\n"
     ]
    }
   ],
   "source": [
    "mylist1=LinkedList()\n",
    "mylist1.addRear(5)\n",
    "mylist1.addRear(84)\n",
    "mylist1.addRear(12)\n",
    "mylist1.addRear(77)\n",
    "print(mylist1)\n",
    "\n",
    "mylist2=LinkedList()\n",
    "mylist2.addRear(8)\n",
    "mylist2.addRear(9)\n",
    "print(mylist2)\n",
    "\n",
    "print('mylist1',mylist1)\n",
    "print('mylist2',mylist2)\n",
    "addList=mylist1+mylist2\n",
    "print('hasil penjumlahan=',addList)\n"
   ]
  },
  {
   "cell_type": "code",
   "execution_count": 0,
   "metadata": {
    "collapsed": false
   },
   "outputs": [
   ],
   "source": [
   ]
  },
  {
   "cell_type": "code",
   "execution_count": 0,
   "metadata": {
    "collapsed": false
   },
   "outputs": [
   ],
   "source": [
   ]
  },
  {
   "cell_type": "code",
   "execution_count": 0,
   "metadata": {
    "collapsed": false
   },
   "outputs": [
   ],
   "source": [
   ]
  },
  {
   "cell_type": "code",
   "execution_count": 0,
   "metadata": {
    "collapsed": false
   },
   "outputs": [
   ],
   "source": [
   ]
  },
  {
   "cell_type": "code",
   "execution_count": 0,
   "metadata": {
    "collapsed": false
   },
   "outputs": [
   ],
   "source": [
   ]
  },
  {
   "cell_type": "code",
   "execution_count": 0,
   "metadata": {
    "collapsed": false
   },
   "outputs": [
   ],
   "source": [
   ]
  },
  {
   "cell_type": "code",
   "execution_count": 0,
   "metadata": {
    "collapsed": false
   },
   "outputs": [
   ],
   "source": [
   ]
  },
  {
   "cell_type": "code",
   "execution_count": 0,
   "metadata": {
    "collapsed": false
   },
   "outputs": [
   ],
   "source": [
   ]
  },
  {
   "cell_type": "code",
   "execution_count": 0,
   "metadata": {
    "collapsed": false
   },
   "outputs": [
   ],
   "source": [
   ]
  },
  {
   "cell_type": "code",
   "execution_count": 0,
   "metadata": {
    "collapsed": false
   },
   "outputs": [
   ],
   "source": [
   ]
  },
  {
   "cell_type": "code",
   "execution_count": 0,
   "metadata": {
    "collapsed": false
   },
   "outputs": [
   ],
   "source": [
   ]
  },
  {
   "cell_type": "code",
   "execution_count": 0,
   "metadata": {
    "collapsed": false
   },
   "outputs": [
   ],
   "source": [
   ]
  },
  {
   "cell_type": "code",
   "execution_count": 5,
   "metadata": {
    "collapsed": false
   },
   "outputs": [
   ],
   "source": [
    "class Matriks:\n",
    "    def __init__(self,a,b,mat=None):\n",
    "        self.bar=a\n",
    "        self.kol=b\n",
    "        if mat==None:\n",
    "            mat=[]\n",
    "            for i in range(self.bar):\n",
    "                temp=[]\n",
    "                for j in range(self.kol):\n",
    "                    bil=int(input(\"Matriks[\"+str(i)+\",\"+str(j)+\"]=\"))\n",
    "                    temp.append(bil)\n",
    "                mat.append(temp)\n",
    "            self.mat=mat\n",
    "        else:\n",
    "            self.mat=mat\n",
    "            \n",
    "    def __str__(self):\n",
    "        data=\"\"\n",
    "        for i in range(self.bar):\n",
    "            print(\"|\",end=\"\")\n",
    "            for j in range(self.kol):\n",
    "                temp=str(self.mat[i][j])\n",
    "                print(\" \"*(4-len(temp)) + temp, end=\"\")\n",
    "            print(\" |\") \n",
    "        return data\n",
    "\n",
    "    def __add__(self,obj):\n",
    "        if self.bar==obj.kol and self.kol==obj.bar:\n",
    "            hasiladd=[]\n",
    "            for i in range(self.bar):\n",
    "                temp=[]\n",
    "                for j in range(self.kol):\n",
    "                    Hasil = self.mat[i][j]+obj.mat[i][j]\n",
    "                    temp.append(Hasil)\n",
    "                hasiladd.append(temp)\n",
    "            return Matriks(hasiladd,self.bar,self.kol)\n",
    "        else:\n",
    "            return \"ukuran tidak sesuai\"\n",
    "        \n",
    "        \n",
    "    def __mul__(self,obj):\n",
    "        hasilmul=[]\n",
    "        mat1=self.mat\n",
    "        mat2=obj.mat\n",
    "        if (self.kol) != (obj.bar):\n",
    "            return \"Ukuran Matriks tidak sesuai\"\n",
    "        else:\n",
    "            for i in range(len(mat1)):\n",
    "                temp1=[]\n",
    "                for j in range(len(mat2[0])):\n",
    "                    Hasil=0\n",
    "                    for k in range(len(mat1[0])):\n",
    "                        Hasil += (mat1[i][k] * mat2[k][j])\n",
    "                    temp1.append(Hasil)\n",
    "                hasilmul.append(temp1)\n",
    "            return Matriks(hasilmul,self.bar,obj.kol)\n",
    "\n",
    "\n"
   ]
  },
  {
   "cell_type": "code",
   "execution_count": 6,
   "metadata": {
    "cocalc": {
     "outputs": {
      "0": {
       "name": "input",
       "opts": {
        "password": false,
        "prompt": "Matriks[0,0]="
       },
       "output_type": "stream",
       "value": "1"
      },
      "1": {
       "name": "input",
       "opts": {
        "password": false,
        "prompt": "Matriks[0,1]="
       },
       "output_type": "stream",
       "value": "1"
      },
      "10": {
       "name": "input",
       "opts": {
        "password": false,
        "prompt": "Matriks[0,0]="
       },
       "output_type": "stream",
       "value": "1"
      },
      "11": {
       "name": "input",
       "opts": {
        "password": false,
        "prompt": "Matriks[0,1]="
       },
       "output_type": "stream",
       "value": "1"
      },
      "12": {
       "name": "input",
       "opts": {
        "password": false,
        "prompt": "Matriks[0,2]="
       },
       "output_type": "stream",
       "value": "1"
      },
      "13": {
       "name": "input",
       "opts": {
        "password": false,
        "prompt": "Matriks[1,0]="
       },
       "output_type": "stream",
       "value": "1"
      },
      "14": {
       "name": "input",
       "opts": {
        "password": false,
        "prompt": "Matriks[1,1]="
       },
       "output_type": "stream",
       "value": "1"
      },
      "15": {
       "name": "input",
       "opts": {
        "password": false,
        "prompt": "Matriks[1,2]="
       },
       "output_type": "stream",
       "value": "1"
      },
      "2": {
       "name": "input",
       "opts": {
        "password": false,
        "prompt": "Matriks[1,0]="
       },
       "output_type": "stream",
       "value": "1"
      },
      "3": {
       "name": "input",
       "opts": {
        "password": false,
        "prompt": "Matriks[1,1]="
       },
       "output_type": "stream",
       "value": "1"
      },
      "5": {
       "name": "input",
       "opts": {
        "password": false,
        "prompt": "Matriks[0,0]="
       },
       "output_type": "stream",
       "value": "1"
      },
      "6": {
       "name": "input",
       "opts": {
        "password": false,
        "prompt": "Matriks[0,1]="
       },
       "output_type": "stream",
       "value": "1"
      },
      "7": {
       "name": "input",
       "opts": {
        "password": false,
        "prompt": "Matriks[1,0]="
       },
       "output_type": "stream",
       "value": "1"
      },
      "8": {
       "name": "input",
       "opts": {
        "password": false,
        "prompt": "Matriks[1,1]="
       },
       "output_type": "stream",
       "value": "1"
      }
     }
    },
    "collapsed": false
   },
   "outputs": [
    {
     "name": "stdout",
     "output_type": "stream",
     "text": "Matriks[0,0]= 1"
    },
    {
     "name": "stdout",
     "output_type": "stream",
     "text": "Matriks[0,1]= 1"
    },
    {
     "name": "stdout",
     "output_type": "stream",
     "text": "Matriks[1,0]= 1"
    },
    {
     "name": "stdout",
     "output_type": "stream",
     "text": "Matriks[1,1]= 1"
    },
    {
     "name": "stdout",
     "output_type": "stream",
     "text": [
      "|   1   1 |\n",
      "|   1   1 |\n",
      "\n"
     ]
    },
    {
     "name": "stdout",
     "output_type": "stream",
     "text": "Matriks[0,0]= 1"
    },
    {
     "name": "stdout",
     "output_type": "stream",
     "text": "Matriks[0,1]= 1"
    },
    {
     "name": "stdout",
     "output_type": "stream",
     "text": "Matriks[1,0]= 1"
    },
    {
     "name": "stdout",
     "output_type": "stream",
     "text": "Matriks[1,1]= 1"
    },
    {
     "name": "stdout",
     "output_type": "stream",
     "text": [
      "|   1   1 |\n",
      "|   1   1 |\n",
      "\n"
     ]
    },
    {
     "name": "stdout",
     "output_type": "stream",
     "text": "Matriks[0,0]= 1"
    },
    {
     "name": "stdout",
     "output_type": "stream",
     "text": "Matriks[0,1]= 1"
    },
    {
     "name": "stdout",
     "output_type": "stream",
     "text": "Matriks[0,2]= 1"
    },
    {
     "name": "stdout",
     "output_type": "stream",
     "text": "Matriks[1,0]= 1"
    },
    {
     "name": "stdout",
     "output_type": "stream",
     "text": "Matriks[1,1]= 1"
    },
    {
     "name": "stdout",
     "output_type": "stream",
     "text": "Matriks[1,2]= 1"
    },
    {
     "name": "stdout",
     "output_type": "stream",
     "text": [
      "|   1   1   1 |\n",
      "|   1   1   1 |\n",
      "\n"
     ]
    },
    {
     "ename": "TypeError",
     "evalue": "'list' object cannot be interpreted as an integer",
     "output_type": "error",
     "traceback": [
      "\u001b[0;31m---------------------------------------------------------------------------\u001b[0m",
      "\u001b[0;31mTypeError\u001b[0m                                 Traceback (most recent call last)",
      "\u001b[0;32m<ipython-input-6-a13bba39236c>\u001b[0m in \u001b[0;36m<module>\u001b[0;34m()\u001b[0m\n\u001b[1;32m      8\u001b[0m \u001b[0;31m#print(addtotal)\u001b[0m\u001b[0;34m\u001b[0m\u001b[0;34m\u001b[0m\u001b[0m\n\u001b[1;32m      9\u001b[0m \u001b[0mmultotal\u001b[0m\u001b[0;34m=\u001b[0m\u001b[0mmatriks1\u001b[0m\u001b[0;34m*\u001b[0m\u001b[0mmatriks3\u001b[0m\u001b[0;34m\u001b[0m\u001b[0m\n\u001b[0;32m---> 10\u001b[0;31m \u001b[0mprint\u001b[0m\u001b[0;34m(\u001b[0m\u001b[0mmultotal\u001b[0m\u001b[0;34m)\u001b[0m\u001b[0;34m\u001b[0m\u001b[0m\n\u001b[0m",
      "\u001b[0;32m<ipython-input-5-9a42b1e4a94b>\u001b[0m in \u001b[0;36m__str__\u001b[0;34m(self)\u001b[0m\n\u001b[1;32m     17\u001b[0m     \u001b[0;32mdef\u001b[0m \u001b[0m__str__\u001b[0m\u001b[0;34m(\u001b[0m\u001b[0mself\u001b[0m\u001b[0;34m)\u001b[0m\u001b[0;34m:\u001b[0m\u001b[0;34m\u001b[0m\u001b[0m\n\u001b[1;32m     18\u001b[0m         \u001b[0mdata\u001b[0m\u001b[0;34m=\u001b[0m\u001b[0;34m\"\"\u001b[0m\u001b[0;34m\u001b[0m\u001b[0m\n\u001b[0;32m---> 19\u001b[0;31m         \u001b[0;32mfor\u001b[0m \u001b[0mi\u001b[0m \u001b[0;32min\u001b[0m \u001b[0mrange\u001b[0m\u001b[0;34m(\u001b[0m\u001b[0mself\u001b[0m\u001b[0;34m.\u001b[0m\u001b[0mbar\u001b[0m\u001b[0;34m)\u001b[0m\u001b[0;34m:\u001b[0m\u001b[0;34m\u001b[0m\u001b[0m\n\u001b[0m\u001b[1;32m     20\u001b[0m             \u001b[0mprint\u001b[0m\u001b[0;34m(\u001b[0m\u001b[0;34m\"|\"\u001b[0m\u001b[0;34m,\u001b[0m\u001b[0mend\u001b[0m\u001b[0;34m=\u001b[0m\u001b[0;34m\"\"\u001b[0m\u001b[0;34m)\u001b[0m\u001b[0;34m\u001b[0m\u001b[0m\n\u001b[1;32m     21\u001b[0m             \u001b[0;32mfor\u001b[0m \u001b[0mj\u001b[0m \u001b[0;32min\u001b[0m \u001b[0mrange\u001b[0m\u001b[0;34m(\u001b[0m\u001b[0mself\u001b[0m\u001b[0;34m.\u001b[0m\u001b[0mkol\u001b[0m\u001b[0;34m)\u001b[0m\u001b[0;34m:\u001b[0m\u001b[0;34m\u001b[0m\u001b[0m\n",
      "\u001b[0;31mTypeError\u001b[0m: 'list' object cannot be interpreted as an integer"
     ]
    }
   ],
   "source": [
    "matriks1= Matriks(2,2)\n",
    "print(matriks1)\n",
    "matriks2= Matriks(2,2)\n",
    "print(matriks2)\n",
    "matriks3= Matriks(2,3)\n",
    "print(matriks3)\n",
    "#addtotal=matriks1+matriks2\n",
    "#print(addtotal)\n",
    "multotal=matriks1*matriks3\n",
    "print(multotal)\n"
   ]
  },
  {
   "cell_type": "code",
   "execution_count": 0,
   "metadata": {
    "collapsed": false
   },
   "outputs": [
   ],
   "source": [
   ]
  }
 ],
 "metadata": {
  "kernelspec": {
   "display_name": "Python 3 (Anaconda 5)",
   "env": {
    "LD_LIBRARY_PATH": "/ext/anaconda5/lib",
    "PROJ_LIB": "/ext/anaconda-2019.03/share/proj",
    "PYTHONHOME": "/ext/anaconda5/lib/python3.5",
    "PYTHONPATH": "/ext/anaconda5/lib/python3.5:/ext/anaconda5/lib/python3.5/site-packages"
   },
   "language": "python",
   "metadata": {
    "cocalc": {
     "description": "Python/R distribution for data science",
     "priority": -1,
     "url": "https://www.anaconda.com/distribution/"
    }
   },
   "name": "anaconda5"
  },
  "language_info": {
   "codemirror_mode": {
    "name": "ipython",
    "version": 3
   },
   "file_extension": ".py",
   "mimetype": "text/x-python",
   "name": "python",
   "nbconvert_exporter": "python",
   "pygments_lexer": "ipython3",
   "version": "3.6.7"
  }
 },
 "nbformat": 4,
 "nbformat_minor": 0
}